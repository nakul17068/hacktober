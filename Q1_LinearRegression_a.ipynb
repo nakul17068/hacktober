{
 "cells": [
  {
   "cell_type": "code",
   "execution_count": 1,
   "metadata": {},
   "outputs": [],
   "source": [
    "import pandas as pd\n",
    "import numpy as np\n",
    "import matplotlib.pyplot as plt\n",
    "import math\n",
    "from operator import add"
   ]
  },
  {
   "cell_type": "code",
   "execution_count": 2,
   "metadata": {},
   "outputs": [],
   "source": [
    "df1 = pd.read_csv('Dataset.data', header=-1, delim_whitespace=True)"
   ]
  },
  {
   "cell_type": "code",
   "execution_count": 3,
   "metadata": {},
   "outputs": [],
   "source": [
    "col = ['Sex', 'Length', 'Diameter', 'Height', 'Whole', 'Shucked', 'Viscera', 'Shell', 'Rings']\n",
    "df1.columns = col"
   ]
  },
  {
   "cell_type": "code",
   "execution_count": 4,
   "metadata": {},
   "outputs": [],
   "source": [
    "# Target Variable\n",
    "y = df1['Rings'].values"
   ]
  },
  {
   "cell_type": "code",
   "execution_count": 5,
   "metadata": {},
   "outputs": [],
   "source": [
    "ind_Sex = pd.get_dummies(df1['Sex'], prefix='Sex')\n",
    "df2 = pd.concat([ind_Sex, df1.select_dtypes(['float64']), df1.select_dtypes(['int64'])], axis = 1)"
   ]
  },
  {
   "cell_type": "code",
   "execution_count": 6,
   "metadata": {},
   "outputs": [],
   "source": [
    
   ]
  },
  {
   "cell_type": "code",
   "execution_count": 7,
   "metadata": {},
   "outputs": [],
   "source": [
    "def GD(X_train, y_train, X_validation, y_validation, alpha, theta_t):\n",
    "    RMSEs_train = []\n",
    "    RMSEs_val = []\n",
    "    for i in range(1000):\n",
    "        hypo = np.dot(X_train, theta_t)\n",
    "        RMSE_train = math.sqrt((1/(2*4177)) * np.dot((hypo-y_train).T, (hypo-y_train)))\n",
    "        RMSEs_train.append(RMSE_train)\n",
    "        theta_t = theta_t - (alpha * (1/4177) * np.dot(X_train.T, (hypo-y_train)))\n",
    "        pred = np.dot(X_validation, theta_t)\n",
    "        RMSE_validation = math.sqrt((1/(2*4177)) * np.dot((pred-y_validation).T, (pred-y_validation)))\n",
    "        RMSEs_val.append(RMSE_validation)\n",
    "    return RMSEs_train, RMSEs_val"
   ]
  },
  {
   "cell_type": "code",
   "execution_count": 8,
   "metadata": {},
   "outputs": [],
   "source": [
    "def RMSE_eval(folds, df1):\n",
    "    R_train = []\n",
    "    R_val = []\n",
    "    np.random.seed(10)\n",
    "    theta_t = np.random.rand(11)\n",
    "    alpha = 0.01\n",
    "    for i in range(1000):\n",
    "        RMSEs_train = []\n",
    "        RMSEs_val = []\n",
    "        for i in range(folds):\n",
    "            if i == 0:\n",
    "                X_train = df1.loc[835*(i+1):, 'Sex_F':'Shell']\n",
    "                X_train = normalize(X_train)\n",
    "                X_train['Intercept'] = np.ones(3342)\n",
    "\n",
    "                y_train = df1.loc[835*(i+1):, 'Rings']\n",
    "            elif i == 4:\n",
    "                X_train = df1.loc[:(835*i)-1, 'Sex_F':'Shell']\n",
    "                X_train = normalize(X_train)\n",
    "                X_train['Intercept'] = np.ones(3340)\n",
    "\n",
    "                y_train = df1.loc[:(835*i)-1, 'Rings']\n",
    "            else:\n",
    "                X_train = pd.concat([df1.loc[:(835*i)-1, 'Sex_F':'Shell'], df1.loc[835*(i+1):, 'Sex_F':'Shell']], axis=0)\n",
    "                X_train = normalize(X_train)\n",
    "                X_train['Intercept'] = np.ones(3342)\n",
    "\n",
    "                y_train = pd.concat([df1.loc[:(835*i)-1, 'Rings'], df1.loc[835*(i+1):, 'Rings']], axis=0)\n",
    "\n",
    "\n",
    "            if i == 4:\n",
    "                X_validation = df1.loc[(835*i):, 'Sex_F':'Shell']\n",
    "                X_validation = normalize(X_validation)\n",
    "                X_validation['Intercept'] = np.ones(837)\n",
    "\n",
    "                y_validation = df1.loc[(835*i):, 'Rings']\n",
    "            else:\n",
    "                X_validation = df1.loc[(835*i):(835*(i+1)-1), 'Sex_F':'Shell']\n",
    "                X_validation = normalize(X_validation)\n",
    "                X_validation['Intercept'] = np.ones(835)\n",
    "\n",
    "                y_validation = df1.loc[(835*i):(835*(i+1)-1), 'Rings']\n",
    "\n",
    "            \n",
    "            \n",
    "            hypo = np.dot(X_train, theta_t)\n",
    "            RMSE_train = math.sqrt((1/(2*len(y_train))) * np.dot((hypo-y_train).T, (hypo-y_train)))\n",
    "            RMSEs_train.append(RMSE_train)\n",
    "            theta_t = theta_t - (alpha * (1/len(y_train)) * np.dot(X_train.T, (hypo-y_train)))\n",
    "            pred = np.dot(X_validation, theta_t)\n",
    "            RMSE_validation = math.sqrt((1/(2*len(y_validation))) * np.dot((pred-y_validation).T, (pred-y_validation)))\n",
    "            RMSEs_val.append(RMSE_validation)\n",
    "        \n",
    "        R_train.append(np.mean(RMSEs_train))\n",
    "        R_val.append(np.mean(RMSEs_val))\n",
    "        \n",
    "    return R_train, R_val"
   ]
  },
  {
   "cell_type": "code",
   "execution_count": 9,
   "metadata": {},
   "outputs": [],
   "source": [
    "R_train, R_validation = RMSE_eval(5, df2)"
   ]
  },
  {
   "cell_type": "code",
   "execution_count": 10,
   "metadata": {},
   "outputs": [
    {
     "data": {
      "image/png": "[encoded data removed]",
      "text/plain": [
       "<Figure size 432x288 with 1 Axes>"
      ]
     },
     "metadata": {
      "needs_background": "light"
     },
     "output_type": "display_data"
    }
   ],
   "source": [
    "fig1 = plt.figure(1)\n",
    "plt.plot(R_train)\n",
    "plt.title('RMSE Train vs Iterations Plot')\n",
    "plt.xlabel('Epochs')\n",
    "plt.ylabel('RMSE')\n",
    "plt.show()"
   ]
  },
  {
   "cell_type": "code",
   "execution_count": 11,
   "metadata": {},
   "outputs": [
    {
     "data": {
      "image/png": "[encoded data removed]",
      "text/plain": [
       "<Figure size 432x288 with 1 Axes>"
      ]
     },
     "metadata": {
      "needs_background": "light"
     },
     "output_type": "display_data"
    }
   ],
   "source": [
    "fig2 = plt.figure(1)\n",
    "plt.plot(R_validation)\n",
    "plt.title('RMSE Validation vs Iterations Plot')\n",
    "plt.xlabel('Epochs')\n",
    "plt.ylabel('RMSE')\n",
    "plt.show()"
   ]
  },
  {
   "cell_type": "code",
   "execution_count": null,
   "metadata": {},
   "outputs": [],
   "source": []
  }
 ],
 "metadata": {
  "kernelspec": {
   "display_name": "Python 3",
   "language": "python",
   "name": "python3"
  },
  "language_info": {
   "codemirror_mode": {
    "name": "ipython",
    "version": 3
   },
   "file_extension": ".py",
   "mimetype": "text/x-python",
   "name": "python",
   "nbconvert_exporter": "python",
   "pygments_lexer": "ipython3",
   "version": "3.7.3"
  }
 },
 "nbformat": 4,
 "nbformat_minor": 2
}
