{
 "cells": [
  {
   "cell_type": "code",
   "execution_count": 1,
   "metadata": {},
   "outputs": [],
   "source": [
    "import pandas as pd\n",
    "import numpy as np\n",
    "import matplotlib.pyplot as plt\n",
    "import math\n",
    "from operator import add"
   ]
  },
  {
   "cell_type": "code",
   "execution_count": 2,
   "metadata": {},
   "outputs": [],
   "source": [
    "df1 = pd.read_csv('Dataset.data', delim_whitespace=True)"
   ]
  },
  {
   "cell_type": "code",
   "execution_count": 3,
   "metadata": {},
   "outputs": [],
   "source": [
    "col = ['Sex', 'Length', 'Diameter', 'Height', 'Whole', 'Shucked', 'Viscera', 'Shell', 'Rings']\n",
    "df1.columns = col"
   ]
  },
  {
   "cell_type": "code",
   "execution_count": 4,
   "metadata": {},
   "outputs": [],
   "source": [
    "# Target Variable\n",
    "y = df1['Rings'].values"
   ]
  },
  {
   "cell_type": "code",
   "execution_count": 5,
   "metadata": {},
   "outputs": [],
   "source": [
    "ind_Sex = pd.get_dummies(df1['Sex'], prefix='Sex')\n",
    "df2 = pd.concat([ind_Sex, df1.select_dtypes(['float64']), df1.select_dtypes(['int64'])], axis = 1)"
   ]
  },
  {
   "cell_type": "code",
   "execution_count": 6,
   "metadata": {},
   "outputs": [],
   "source": [
    "for cat, value in df2.iteritems():\n",
    "    if(cat != 'Rings'):\n",
    "        df2[cat] = (df2[cat].values - np.mean(df2[cat].values))/np.std(df2[cat].values)"
   ]
  },
  {
   "cell_type": "code",
   "execution_count": 7,
   "metadata": {},
   "outputs": [
    {
     "name": "stdout",
     "output_type": "stream",
     "text": [
      "For fold 1 RMSE for training set = 1.3723589317275606\n",
      "For fold 1 RMSE for validation set = 2.2043949202046975\n",
      "---\n",
      "For fold 2 RMSE for training set = 1.635668156695796\n",
      "For fold 2 RMSE for validation set = 1.2264904073187626\n",
      "---\n",
      "For fold 3 RMSE for training set = 1.5326112900115405\n",
      "For fold 3 RMSE for validation set = 1.7137666623020236\n",
      "---\n",
      "For fold 4 RMSE for training set = 1.5981910859526425\n",
      "For fold 4 RMSE for validation set = 1.366908579260397\n",
      "---\n",
      "For fold 5 RMSE for training set = 1.58776318307603\n",
      "For fold 5 RMSE for validation set = 1.41656211787528\n",
      "---\n"
     ]
    }
   ],
   "source": [
    "R_train_mod = []\n",
    "R_val_mod = []\n",
    "for i in range(5):\n",
    "    if i == 0:\n",
    "        X_train_mod = df2.loc[835*(i+1):, 'Sex_F':'Shell']\n",
    "        X_train_mod.insert(0, 'Intercept', np.ones(3342), True)\n",
    "\n",
    "        y_train_mod = df2.loc[835*(i+1):, 'Rings']\n",
    "    elif i == 4:\n",
    "        X_train_mod = df2.loc[:(835*i)-1, 'Sex_F':'Shell']\n",
    "        X_train_mod.insert(0, 'Intercept', np.ones(3340), True)\n",
    "\n",
    "        y_train_mod = df2.loc[:(835*i)-1, 'Rings']\n",
    "    else:\n",
    "        X_train_mod = pd.concat([df2.loc[:(835*i)-1, 'Sex_F':'Shell'], df2.loc[835*(i+1):, 'Sex_F':'Shell']], axis=0)\n",
    "        X_train_mod.insert(0, 'Intercept', np.ones(3342), True)\n",
    "\n",
    "        y_train_mod = pd.concat([df2.loc[:(835*i)-1, 'Rings'], df2.loc[835*(i+1):, 'Rings']], axis=0)\n",
    "\n",
    "\n",
    "    if i == 4:\n",
    "        X_validation_mod = df2.loc[(835*i):, 'Sex_F':'Shell']\n",
    "        X_validation_mod.insert(0, 'Intercept', np.ones(837), True)\n",
    "\n",
    "        y_validation_mod = df2.loc[(835*i):, 'Rings']\n",
    "    else:\n",
    "        X_validation_mod = df2.loc[(835*i):(835*(i+1)-1), 'Sex_F':'Shell']\n",
    "        X_validation_mod.insert(0, 'Intercept', np.ones(835), True)\n",
    "\n",
    "        y_validation_mod = df2.loc[(835*i):(835*(i+1)-1), 'Rings']\n",
    "    \n",
    "    \n",
    "    theta_t_mod = (np.linalg.inv(np.dot(X_train_mod.T, X_train_mod))).dot(np.dot(X_train_mod.T, y_train_mod))\n",
    "    hypo_mod = np.dot(X_train_mod, theta_t_mod)\n",
    "    err = hypo_mod - y_train_mod\n",
    "    RMSE_train_mod = math.sqrt((np.dot(err.T, err))/(2*len(y_train_mod)))\n",
    "    print(\"For fold {} RMSE for training set = {}\".format(i+1,RMSE_train_mod))\n",
    "    R_train_mod.append(RMSE_train_mod)\n",
    "\n",
    "    pred_mod = np.dot(X_validation_mod, theta_t_mod)\n",
    "    error = pred_mod - y_validation_mod\n",
    "    RMSE_val_mod = math.sqrt((np.dot(error.T, error))/(2*len(y_validation_mod)))\n",
    "    print(\"For fold {} RMSE for validation set = {}\".format(i+1,RMSE_val_mod))\n",
    "    R_val_mod.append(RMSE_val_mod)\n",
    "    print(\"---\")"
   ]
  },
  {
   "cell_type": "code",
   "execution_count": 8,
   "metadata": {},
   "outputs": [],
   "source": [
    "# fig1 = plt.figure(1)\n",
    "# plt.plot(R_train_mod)\n",
    "# plt.title('RMSE Train vs Folds Plot(Normal Equation)')\n",
    "# plt.xlabel('Folds')\n",
    "# plt.ylabel('RMSE')\n",
    "# plt.show()"
   ]
  },
  {
   "cell_type": "code",
   "execution_count": 9,
   "metadata": {},
   "outputs": [],
   "source": [
    "# fig2 = plt.figure(2)\n",
    "# plt.plot(R_val_mod)\n",
    "# plt.title('RMSE Validation vs Folds Plot(Normal Equation)')\n",
    "# plt.ylabel('RMSE')\n",
    "# plt.xlabel('Folds')\n",
    "# plt.show()"
   ]
  },
  {
   "cell_type": "code",
   "execution_count": null,
   "metadata": {},
   "outputs": [],
   "source": []
  }
 ],
 "metadata": {
  "kernelspec": {
   "display_name": "Python 3",
   "language": "python",
   "name": "python3"
  },
  "language_info": {
   "codemirror_mode": {
    "name": "ipython",
    "version": 3
   },
   "file_extension": ".py",
   "mimetype": "text/x-python",
   "name": "python",
   "nbconvert_exporter": "python",
   "pygments_lexer": "ipython3",
   "version": "3.7.3"
  }
 },
 "nbformat": 4,
 "nbformat_minor": 2
}
